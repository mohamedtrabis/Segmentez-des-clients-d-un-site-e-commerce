{
 "cells": [
  {
   "cell_type": "markdown",
   "metadata": {
    "id": "KPs5N3uLBhQ_"
   },
   "source": [
    " # **<font color='blue'/>Importation des packages et chargement des données**\n",
    "\n",
    "---\n",
    "\n"
   ]
  },
  {
   "cell_type": "markdown",
   "metadata": {
    "id": "4xwFUIy-Twga"
   },
   "source": [
    "Importation des packages"
   ]
  },
  {
   "cell_type": "code",
   "execution_count": 1,
   "metadata": {
    "id": "rmJW1pdN9g8E"
   },
   "outputs": [],
   "source": [
    "import pandas as pd\n",
    "import numpy as np\n",
    "\n",
    "import matplotlib.pyplot as plt\n",
    "import seaborn as sns\n",
    "from matplotlib.ticker import AutoMinorLocator\n",
    "\n",
    "import datetime as dt\n",
    "from datetime import date, datetime, timedelta\n",
    "from dateutil.relativedelta import relativedelta\n",
    "\n",
    "import matplotlib as mpl\n",
    "\n",
    "from googletrans import Translator, constants\n",
    "\n",
    "import plotly.graph_objects as go\n",
    "import plotly.express as px\n",
    "from plotly.subplots import make_subplots\n",
    "\n",
    "from yellowbrick.cluster import KElbowVisualizer, SilhouetteVisualizer, InterclusterDistance\n",
    "from sklearn.datasets import make_blobs\n",
    "\n",
    "from sklearn.decomposition import PCA\n",
    "from sklearn.cluster import KMeans\n",
    "from sklearn.preprocessing import StandardScaler, OneHotEncoder, LabelEncoder, OrdinalEncoder, LabelEncoder\n",
    "from sklearn.metrics import adjusted_rand_score\n",
    "from sklearn.ensemble import IsolationForest\n",
    "\n",
    "import pickle as pk\n",
    "import os"
   ]
  },
  {
   "cell_type": "markdown",
   "metadata": {},
   "source": [
    "Importer les modèle PCA et K-Means"
   ]
  },
  {
   "cell_type": "code",
   "execution_count": 2,
   "metadata": {},
   "outputs": [],
   "source": [
    "pca    = pk.load(open(\"pca.pkl\",'rb'))\n",
    "kmeans = pk.load(open(\"kmeans.pkl\",'rb'))"
   ]
  },
  {
   "cell_type": "markdown",
   "metadata": {
    "id": "C3QGuvydTx00"
   },
   "source": [
    "chargement des données"
   ]
  },
  {
   "cell_type": "code",
   "execution_count": 3,
   "metadata": {
    "id": "W2MNmQxF-hIq"
   },
   "outputs": [],
   "source": [
    "df_olist_rfm = pd.read_csv(\"df_olist_rfm.csv\")"
   ]
  },
  {
   "cell_type": "markdown",
   "metadata": {},
   "source": [
    "Convertir les colonne date en datetime"
   ]
  },
  {
   "cell_type": "code",
   "execution_count": 4,
   "metadata": {},
   "outputs": [],
   "source": [
    "col_date = ['order_purchase_timestamp', 'order_approved_at', 'order_delivered_carrier_date', \n",
    "            'order_delivered_customer_date', 'order_estimated_delivery_date',\n",
    "            'review_creation_date', 'review_answer_timestamp', 'shipping_limit_date']\n",
    "\n",
    "df_olist_rfm[col_date] = df_olist_rfm[col_date].apply(pd.to_datetime, format='%Y-%m-%d %H:%M:%S.%f')"
   ]
  },
  {
   "cell_type": "markdown",
   "metadata": {
    "id": "85SEf52M2GkR"
   },
   "source": [
    "# **<font color='blue'/>Analyse de stabilité**\n",
    "\n",
    "---\n"
   ]
  },
  {
   "cell_type": "markdown",
   "metadata": {
    "id": "dMuakDKi2GkS"
   },
   "source": [
    "Fonction pour extraire les clients par période"
   ]
  },
  {
   "cell_type": "code",
   "execution_count": 5,
   "metadata": {
    "id": "dkaeKRlk1Vyv"
   },
   "outputs": [],
   "source": [
    "def customer_delta(df,year,month, delta):\n",
    "  date = datetime(year, month,1)\n",
    "  date_delta = date + relativedelta(months=delta)\n",
    "  date = date - relativedelta(months=11)\n",
    "  date = date.strftime('%Y-%m')\n",
    "  date_delta = date_delta.strftime('%Y-%m')\n",
    "\n",
    "  df_delta = df[(df[\"order_purchase_timestamp\"].dt.strftime('%Y-%m') >= date) & (df[\"order_purchase_timestamp\"].dt.strftime('%Y-%m') <= date_delta)].sort_values('order_purchase_timestamp')\n",
    "\n",
    "  return df_delta"
   ]
  },
  {
   "cell_type": "markdown",
   "metadata": {
    "id": "-wBw_Lx109Q1"
   },
   "source": [
    "Etraire une année de données"
   ]
  },
  {
   "cell_type": "code",
   "execution_count": 6,
   "metadata": {
    "id": "N0gFkdF_KLoZ"
   },
   "outputs": [],
   "source": [
    "def customer_one_year(df,year,month):\n",
    "  date = datetime(year, month,1)\n",
    "  date_prev = date + relativedelta(months=12)\n",
    "  date = date.strftime('%Y-%m')\n",
    "  date_prev = date_prev.strftime('%Y-%m')\n",
    "\n",
    "  df_month = df[(df[\"order_purchase_timestamp\"].dt.strftime('%Y-%m') >= date) & (df[\"order_purchase_timestamp\"].dt.strftime('%Y-%m') < date_prev)].sort_values('order_purchase_timestamp')\n",
    "  # print(date)\n",
    "  # print(date_prev)\n",
    "  return df_month"
   ]
  },
  {
   "cell_type": "markdown",
   "metadata": {
    "id": "wX3gZvZryGbk"
   },
   "source": [
    "La période initiale est d'une année du 2017-01 au 2017-12"
   ]
  },
  {
   "cell_type": "code",
   "execution_count": 7,
   "metadata": {
    "id": "04Y4fp4NFbFp"
   },
   "outputs": [],
   "source": [
    "# Kmeans de la période initiale\n",
    "col_pca = ['price', 'review_score' ,'nb_order', 'freight_value', 'Recency', 'Frequency', 'Monetary', \n",
    "           'RFMScore','total_payment', 'nb_item', 'payment_sequential', 'nb_payment_installments']\n",
    "\n",
    "std_scale = StandardScaler()\n",
    "K=4\n",
    "data_init = customer_one_year(df_olist_rfm,2017,1).copy()\n",
    "X_scaled_init = std_scale.fit_transform(data_init[col_pca].values)\n",
    "X_reduc_init  = pca.fit_transform(X_scaled_init)\n",
    "\n",
    "kmeans.fit(X_reduc_init)\n",
    "data_init['Cluster'] = kmeans.predict(X_reduc_init)"
   ]
  },
  {
   "cell_type": "markdown",
   "metadata": {
    "id": "RA6AxaPq2Gkc"
   },
   "source": [
    "L'ARI (Adjusted Rand Index) mesure la similarité entre deux regroupements en considérant toutes les paires d'échantillons et en comptant les paires qui sont attribuées dans les mêmes clusters.\n",
    "\n",
    "Score ARI pour chaque période : "
   ]
  },
  {
   "cell_type": "code",
   "execution_count": 10,
   "metadata": {
    "colab": {
     "base_uri": "https://localhost:8080/"
    },
    "id": "gQCunvWu4zKB",
    "outputId": "6ae7c86c-444a-4b08-8d38-353dc5dc6738"
   },
   "outputs": [
    {
     "data": {
      "text/plain": [
       "[[1, 0.9816429454745355],\n",
       " [2, 0.9042779097782251],\n",
       " [3, 0.8359601499265431],\n",
       " [4, 0.7923386828076978],\n",
       " [5, 0.6979442733692118],\n",
       " [6, 0.342317085290254],\n",
       " [7, 0.2877417295859713],\n",
       " [8, 0.2689860194859923]]"
      ]
     },
     "execution_count": 10,
     "metadata": {},
     "output_type": "execute_result"
    }
   ],
   "source": [
    "ari_score = []\n",
    "K=4\n",
    "\n",
    "for p in np.arange(1,9):\n",
    "    # Créer dataset par période d'un mois\n",
    "    data_period = customer_delta(df_olist_rfm, 2017,12,p)\n",
    "    \n",
    "    # Standardiser les données\n",
    "    X_scaled_period = std_scale.fit_transform(data_period[col_pca].values)\n",
    "\n",
    "    # Projeter X sur les composantes principales\n",
    "    X_reduc_period  = pca.fit_transform(X_scaled_period)\n",
    "    \n",
    "    #Prédire les clusters avec le kmeans initial\n",
    "    data_period['Cluster_init'] = kmeans.predict(X_reduc_period)\n",
    "        \n",
    "\n",
    "    # Initialiser KMeans\n",
    "    kmeans_delta = KMeans(K, random_state=0)\n",
    "    \n",
    "    # Entraîner le modèle KMeans et affecter les clusters aux données\n",
    "    kmeans_delta.fit(X_reduc_period)\n",
    "    data_period['Cluster'] = kmeans_delta.predict(X_reduc_period)\n",
    "  \n",
    "    # Calculer ARI score\n",
    "    ari_p = adjusted_rand_score(data_period['Cluster'], data_period['Cluster_init'])\n",
    "    ari_score.append([p,ari_p])\n",
    "  \n",
    "ari_score"
   ]
  },
  {
   "cell_type": "markdown",
   "metadata": {
    "id": "ciOnfNmN2Gkf"
   },
   "source": [
    "Graphique des scores ARI"
   ]
  },
  {
   "cell_type": "code",
   "execution_count": 11,
   "metadata": {
    "colab": {
     "base_uri": "https://localhost:8080/",
     "height": 467
    },
    "id": "_rfr9gT-2Gkg",
    "outputId": "e1945c77-1bf6-4dcd-80ed-97d4b71d1b32"
   },
   "outputs": [
    {
     "data": {
      "image/png": "[encoded data removed]",
      "text/plain": [
       "<Figure size 864x504 with 1 Axes>"
      ]
     },
     "metadata": {},
     "output_type": "display_data"
    }
   ],
   "source": [
    "fig, ax = plt.subplots(figsize=(12,7))\n",
    "\n",
    "df_ari = pd.DataFrame(ari_score, columns=[\"Periode\", \"ARI\"])\n",
    "\n",
    "sns.lineplot(x= df_ari['Periode'].index, y = df_ari['ARI']*100, data = df_ari, palette=\"husl\",marker='o')\n",
    "sns.barplot(x= df_ari['Periode'], y = df_ari['ARI']*100, data = df_ari, palette=\"pastel\")\n",
    "\n",
    "# Ajouter les annotations sur les barres\n",
    "for p in ax.patches:\n",
    "    width, height = p.get_width(), p.get_height()\n",
    "    x, y = p.get_xy() \n",
    "    plt.annotate(\"%.2f\" % p.get_height()+'%',\n",
    "                (p.get_x()+p.get_width()/2, p.get_height()),\n",
    "                ha='center',\n",
    "                va='center',\n",
    "                xytext=(0, 10),\n",
    "                textcoords='offset points',\n",
    "                fontsize = 11,\n",
    "                #  rotation='vertical',\n",
    "                )\n",
    "\n",
    "ax.set_ylabel('Score ARI %', fontsize=12)\n",
    "# ax.set_ylim(0,100)\n",
    "\n",
    "plt.xticks(fontsize=12)\n",
    "plt.yticks(fontsize=14)\n",
    "plt.xlabel('Période - Mois', fontsize=12)\n",
    "plt.grid()\n",
    "\n",
    "plt.title('Adjusted Rand Index (ARI)', fontsize=18)\n",
    "\n",
    "plt.show()"
   ]
  },
  {
   "cell_type": "markdown",
   "metadata": {},
   "source": [
    "**Remarque**: \n",
    "\n",
    "On constate une baisse significative du score ARI au bout du sixième mois."
   ]
  }
 ],
 "metadata": {
  "colab": {
   "collapsed_sections": [
    "KPs5N3uLBhQ_",
    "t2kODzQXHcfN",
    "nVcUYegkDpGz",
    "gEbMjH0CCYEj",
    "ZTJBJKpZLcg2",
    "KQpQFm_cidkt",
    "hyx7Cv98IqDq"
   ],
   "name": "P5_01_notebookanalyse.ipynb",
   "provenance": []
  },
  "kernelspec": {
   "display_name": "Python 3 (ipykernel)",
   "language": "python",
   "name": "python3"
  },
  "language_info": {
   "codemirror_mode": {
    "name": "ipython",
    "version": 3
   },
   "file_extension": ".py",
   "mimetype": "text/x-python",
   "name": "python",
   "nbconvert_exporter": "python",
   "pygments_lexer": "ipython3",
   "version": "3.8.12"
  }
 },
 "nbformat": 4,
 "nbformat_minor": 1
}
